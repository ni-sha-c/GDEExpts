{
 "cells": [
  {
   "cell_type": "code",
   "execution_count": null,
   "metadata": {},
   "outputs": [],
   "source": [
    "import torch\n",
    "import torchsde\n",
    "\n",
    "batch_size, state_size, brownian_size = 32, 3, 2\n",
    "t_size = 20\n",
    "\n",
    "class SDE(torch.nn.Module):\n",
    "    noise_type = 'general'\n",
    "    sde_type = 'ito'\n",
    "\n",
    "    def __init__(self):\n",
    "        super().__init__()\n",
    "        self.mu = torch.nn.Linear(state_size, \n",
    "                                  state_size)\n",
    "        self.sigma = torch.nn.Linear(state_size, \n",
    "                                     state_size * brownian_size)\n",
    "\n",
    "    # Drift\n",
    "    def f(self, t, y):\n",
    "        return self.mu(y)  # shape (batch_size, state_size)\n",
    "\n",
    "    # Diffusion\n",
    "    def g(self, t, y):\n",
    "        return self.sigma(y).view(batch_size, \n",
    "                                  state_size, \n",
    "                                  brownian_size)\n",
    "\n",
    "sde = SDE()\n",
    "y0 = torch.full((batch_size, state_size), 0.1)\n",
    "ts = torch.linspace(0, 1, t_size)\n",
    "# Initial state y0, the SDE is solved over the interval [ts[0], ts[-1]].\n",
    "# ys will have shape (t_size, batch_size, state_size)\n",
    "ys = torchsde.sdeint(sde, y0, ts)\n"
   ]
  }
 ],
 "metadata": {
  "language_info": {
   "name": "python"
  },
  "orig_nbformat": 4
 },
 "nbformat": 4,
 "nbformat_minor": 2
}
